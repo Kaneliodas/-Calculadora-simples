{
  "cells": [
    {
      "cell_type": "markdown",
      "metadata": {
        "id": "view-in-github",
        "colab_type": "text"
      },
      "source": [
        "<a href=\"https://colab.research.google.com/github/Kaneliodas/-Calculadora-simples/blob/main/Conhe%C3%A7a_o_Colab.ipynb\" target=\"_parent\"><img src=\"https://colab.research.google.com/assets/colab-badge.svg\" alt=\"Open In Colab\"/></a>"
      ]
    },
    {
      "cell_type": "markdown",
      "source": [
        "# Atividade de Inovaê"
      ],
      "metadata": {
        "id": "cj6SC-4lN9qE"
      }
    },
    {
      "cell_type": "code",
      "source": [
        "a = float(input(\"Me diga o seu número favorito: \"))\n",
        "if (a < 0):\n",
        "    print(\"O seu número é negativo.\");\n",
        "else :\n",
        "        print(\"O seu número é positivo.\");"
      ],
      "metadata": {
        "id": "ihCJUdjIOFeU"
      },
      "execution_count": null,
      "outputs": []
    },
    {
      "cell_type": "code",
      "source": [
        "Gender = str(input(\"Me diga qual o seu gênero:  F ou M: \"))\n",
        "if (Gender == 'M' ):\n",
        "  print(\"O seu Gênero é masculino\");\n",
        "elif (Gender == 'F' ):\n",
        "    print(\"O seu gÊnero é feminino\");\n",
        "else:\n",
        "  print(\"Gênero invâlido\")"
      ],
      "metadata": {
        "id": "JBCyO4uaOFus"
      },
      "execution_count": null,
      "outputs": []
    },
    {
      "cell_type": "code",
      "source": [
        "#Faça um Programa que verifique se uma letra digitada é vogal ou consoante.\n",
        "Letras = input(\"Ponha uma consoante ou vogal em maiúsculo: \")\n",
        "vogal = ('A', \"E\", \"I\", \"O\", \"U\")\n",
        "consoante = (\"B\", \"C\", \"D\", \"F\", \"G\", \"H\", \"J\", \"K\", \"L\", \"M\", \"N\", \"P\", \"Q\", \"R\", \"S\", \"T\", \"V\", \"W\", \"X\", \"Y\", \"Z\")\n",
        "\n",
        "if (Letras in vogal):\n",
        "   print(\"É uma vogal.\");\n",
        "\n",
        "if (Letras in consoante):\n",
        "    print(\"É uma consoante.\");"
      ],
      "metadata": {
        "id": "6WS6xL1gOF7s"
      },
      "execution_count": null,
      "outputs": []
    },
    {
      "cell_type": "code",
      "source": [
        "#A mensagem \"Aprovado\", se a média alcançada for maior ou igual a sete;\n",
        "#A mensagem \"Reprovado\", se a média for menor do que sete;\n",
        "#A mensagem \"Aprovado com Distinção\", se a média for igual a dez.\n",
        "a = float(input(\"Digite a primeira nota: \"))\n",
        "b = float(input(\"Digite a segunda nota: \"))\n",
        "calculo = (a+b)/2"
      ],
      "metadata": {
        "id": "ud4ji2VGOLnk"
      },
      "execution_count": null,
      "outputs": []
    },
    {
      "cell_type": "code",
      "source": [
        "#Faça um programa para a leitura de duas notas parciais de um aluno. O programa deve calcular a média alcançada por aluno e apresentar:\n",
        "#A mensagem \"Aprovado\", se a média alcançada for maior ou igual a sete;\n",
        "#A mensagem \"Reprovado\", se a média for menor do que sete;\n",
        "#A mensagem \"Aprovado com Distinção\", se a média for igual a dez.\n",
        "a = float(input(\"Digite a primeira nota: \"))\n",
        "b = float(input(\"Digite a segunda nota: \"))\n",
        "calculo = (a+b)/2\n",
        "\n",
        "if calculo == 10:\n",
        "    print(\"Aprovado com Distinção\")\n",
        "elif calculo >= 7:\n",
        "    print(\"Aprovado\")\n",
        "else:\n",
        "    print(\"Reprovado\")"
      ],
      "metadata": {
        "id": "sp-pgnEQOGKs"
      },
      "execution_count": null,
      "outputs": []
    },
    {
      "cell_type": "code",
      "source": [
        "# Leitura dos três números\n",
        "num1 = float(input(\"Digite o primeiro número: \"))\n",
        "num2 = float(input(\"Digite o segundo número: \"))\n",
        "num3 = float(input(\"Digite o terceiro número: \"))\n",
        "\n",
        "# Comparação para encontrar o maior número\n",
        "if num1 >= num2 and num1 >= num3:\n",
        "    maior = num1\n",
        "elif num2 >= num1 and num2 >= num3:\n",
        "    maior = num2\n",
        "else:\n",
        "    maior = num3\n",
        "#Descobrindo o menor número\n",
        "if num1 <= num2 and num1 <= num3:\n",
        "    menor = num1\n",
        "elif num2 <= num1 and num2 <= num3:\n",
        "    menor = num2\n",
        "else:\n",
        "    menor = num3\n",
        "# Exibição do maior número\n",
        "print(\"O maior número é:\", maior)\n",
        "print(\"O menor número é:\", menor)"
      ],
      "metadata": {
        "id": "sNVPhz3pOLwk"
      },
      "execution_count": null,
      "outputs": []
    },
    {
      "cell_type": "code",
      "source": [
        "# Solicita os preços dos três produtos\n",
        "preco1 = float(input(\"Digite o preço do primeiro produto: \"))\n",
        "preco2 = float(input(\"Digite o preço do segundo produto: \"))\n",
        "preco3 = float(input(\"Digite o preço do terceiro produto: \"))\n",
        "\n",
        "# Compara os preços para encontrar o menor\n",
        "if preco1 <= preco2 and preco1 <= preco3:\n",
        "    print(\"Você deve comprar o primeiro produto.\")\n",
        "elif preco2 <= preco1 and preco2 <= preco3:\n",
        "    print(\"Você deve comprar o segundo produto.\")\n",
        "else:\n",
        "    print(\"Você deve comprar o terceiro produto.\")"
      ],
      "metadata": {
        "id": "GXX7cGjETPHK"
      },
      "execution_count": null,
      "outputs": []
    }
  ],
  "metadata": {
    "colab": {
      "name": "Conheça o Colab",
      "toc_visible": true,
      "provenance": [],
      "include_colab_link": true
    },
    "kernelspec": {
      "display_name": "Python 3",
      "name": "python3"
    }
  },
  "nbformat": 4,
  "nbformat_minor": 0
}
